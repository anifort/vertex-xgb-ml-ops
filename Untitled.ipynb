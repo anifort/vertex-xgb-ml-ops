{
 "cells": [
  {
   "cell_type": "code",
   "execution_count": 5,
   "id": "bfebc916",
   "metadata": {},
   "outputs": [],
   "source": [
    "!GET https://us-central1-aiplatform.googleapis.com/v1beta1/projects/feature-store-mars21/locations/us-central1/metadataStores/default/artifacts?pageSize=10&pageToken=0"
   ]
  },
  {
   "cell_type": "code",
   "execution_count": null,
   "id": "fb1e5bff",
   "metadata": {},
   "outputs": [],
   "source": []
  }
 ],
 "metadata": {
  "environment": {
   "name": "common-cpu.m79",
   "type": "gcloud",
   "uri": "gcr.io/deeplearning-platform-release/base-cpu:m79"
  },
  "kernelspec": {
   "display_name": "Python 3",
   "language": "python",
   "name": "python3"
  },
  "language_info": {
   "codemirror_mode": {
    "name": "ipython",
    "version": 3
   },
   "file_extension": ".py",
   "mimetype": "text/x-python",
   "name": "python",
   "nbconvert_exporter": "python",
   "pygments_lexer": "ipython3",
   "version": "3.7.10"
  }
 },
 "nbformat": 4,
 "nbformat_minor": 5
}
